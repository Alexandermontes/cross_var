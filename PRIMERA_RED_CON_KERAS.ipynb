{
  "nbformat": 4,
  "nbformat_minor": 0,
  "metadata": {
    "colab": {
      "name": "PRIMERA RED CON KERAS.ipynb",
      "provenance": [],
      "collapsed_sections": [],
      "authorship_tag": "ABX9TyOuK7lrvmwUvYlmeii+DTBi",
      "include_colab_link": true
    },
    "kernelspec": {
      "name": "python3",
      "display_name": "Python 3"
    }
  },
  "cells": [
    {
      "cell_type": "markdown",
      "metadata": {
        "id": "view-in-github",
        "colab_type": "text"
      },
      "source": [
        "<a href=\"https://colab.research.google.com/github/Alexandermontes/cross_var/blob/main/PRIMERA_RED_CON_KERAS.ipynb\" target=\"_parent\"><img src=\"https://colab.research.google.com/assets/colab-badge.svg\" alt=\"Open In Colab\"/></a>"
      ]
    },
    {
      "cell_type": "code",
      "metadata": {
        "colab": {
          "base_uri": "https://localhost:8080/"
        },
        "id": "GZG2wZ6wG20-",
        "outputId": "3dd813bf-46b5-4f8d-e60f-906c18b1c128"
      },
      "source": [
        "import tensorflow.compat.v1 as tf\r\n",
        "tf.disable_v2_behavior()\r\n",
        "from tensorflow.keras.models import Sequential\r\n",
        "from tensorflow.keras.layers import Dense\r\n",
        "\r\n",
        "import numpy as np\r\n",
        "x_input = np.array([[1,2,3,4,5]])\r\n",
        "y_input = np.array([[1]])\r\n",
        "\r\n",
        "x_test = np.array([[1,2,3,4,5]])\r\n",
        "y_test = np.array([[1]])\r\n",
        "\r\n",
        "model = tf.keras.Sequential()\r\n",
        "model.add(tf.keras.layers.Dense(units=32, activation='tanh', \r\n",
        "                                input_dim =x_input.shape[1],\r\n",
        "                                kernel_initializer='random_normal'))\r\n",
        "model.add(tf.keras.layers.Dense(units=1, \r\n",
        "                                kernel_initializer='random_normal'))\r\n",
        "model.compile(optimizer = tf.keras.optimizers.RMSprop(),\r\n",
        "          loss=tf.keras.losses.binary_crossentropy,\r\n",
        "          metrics = [tf.keras.metrics.categorical_accuracy])\r\n",
        "history = model.fit(x_input, y_input)\r\n",
        "\r\n",
        "model.summary()\r\n",
        "\r\n",
        "print('\\nResultado del modelo:', history.history)\r\n",
        "\r\n",
        "#evaluar el modelo en los datos de prueba, usando evaluate\r\n",
        "\r\n",
        "print('\\n Evalualos los datos')\r\n",
        "\r\n",
        "result = model.evaluate(x_test, y_test, batch_size=120)\r\n",
        "print('test loss, test acc', result)\r\n",
        "\r\n",
        "print('\\n# Generamos predicciones para ejemplo')\r\n",
        "predictions = model.predict(np.array([[1,2,2,2,5]]))\r\n",
        "print('prediccion:', predictions )\r\n",
        "\r\n"
      ],
      "execution_count": null,
      "outputs": [
        {
          "output_type": "stream",
          "text": [
            "Train on 1 samples\n",
            "1/1 [==============================] - 0s 231ms/sample - loss: 15.4249 - categorical_accuracy: 1.0000\n",
            "Model: \"sequential_2\"\n",
            "_________________________________________________________________\n",
            "Layer (type)                 Output Shape              Param #   \n",
            "=================================================================\n",
            "dense_2 (Dense)              (None, 32)                192       \n",
            "_________________________________________________________________\n",
            "dense_3 (Dense)              (None, 1)                 33        \n",
            "=================================================================\n",
            "Total params: 225\n",
            "Trainable params: 225\n",
            "Non-trainable params: 0\n",
            "_________________________________________________________________\n",
            "\n",
            "Resultado del modelo: {'loss': [15.424948692321777], 'categorical_accuracy': [1.0]}\n",
            "\n",
            " Evalualos los datos\n",
            "test loss, test acc [15.424948692321777, 1.0]\n",
            "\n",
            "# Generamos predicciones para ejemplo\n",
            "prediccion: [[-0.12873845]]\n"
          ],
          "name": "stdout"
        },
        {
          "output_type": "stream",
          "text": [
            "/usr/local/lib/python3.6/dist-packages/tensorflow/python/keras/engine/training.py:2325: UserWarning: `Model.state_updates` will be removed in a future version. This property should not be used in TensorFlow 2.0, as `updates` are applied automatically.\n",
            "  warnings.warn('`Model.state_updates` will be removed in a future version. '\n"
          ],
          "name": "stderr"
        }
      ]
    }
  ]
}
{
  "nbformat": 4,
  "nbformat_minor": 0,
  "metadata": {
    "colab": {
      "name": "FASHION MNIST.ipynb",
      "provenance": [],
      "collapsed_sections": [],
      "authorship_tag": "ABX9TyO7fvPEquPTCLy0S7a0/9qw",
      "include_colab_link": true
    },
    "kernelspec": {
      "name": "python3",
      "display_name": "Python 3"
    }
  },
  "cells": [
    {
      "cell_type": "markdown",
      "metadata": {
        "id": "view-in-github",
        "colab_type": "text"
      },
      "source": [
        "<a href=\"https://colab.research.google.com/github/Alexandermontes/cross_var/blob/main/FASHION_MNIST.ipynb\" target=\"_parent\"><img src=\"https://colab.research.google.com/assets/colab-badge.svg\" alt=\"Open In Colab\"/></a>"
      ]
    },
    {
      "cell_type": "code",
      "metadata": {
        "colab": {
          "base_uri": "https://localhost:8080/"
        },
        "id": "4TcFgPmMSc_H",
        "outputId": "93eb0059-bc2c-4bdf-c9cd-f60892b72b67"
      },
      "source": [
        "from __future__ import absolute_import, division, print_function, unicode_literals\r\n",
        "\r\n",
        "import tensorflow.compat.v1 as tf\r\n",
        "tf.disable_v2_behavior()\r\n",
        "from tensorflow import keras\r\n",
        "\r\n",
        "import numpy as np\r\n",
        "import matplotlib.pyplot as plt\r\n",
        "\r\n",
        "print(tf.__version__)\r\n"
      ],
      "execution_count": null,
      "outputs": [
        {
          "output_type": "stream",
          "text": [
            "WARNING:tensorflow:From /usr/local/lib/python3.6/dist-packages/tensorflow/python/compat/v2_compat.py:96: disable_resource_variables (from tensorflow.python.ops.variable_scope) is deprecated and will be removed in a future version.\n",
            "Instructions for updating:\n",
            "non-resource variables are not supported in the long term\n",
            "2.4.1\n"
          ],
          "name": "stdout"
        }
      ]
    },
    {
      "cell_type": "code",
      "metadata": {
        "id": "Olr8RFuQVX2g",
        "colab": {
          "base_uri": "https://localhost:8080/"
        },
        "outputId": "a4e44165-6f0b-478f-adbb-4009e99551a3"
      },
      "source": [
        "fashion_mnist = keras.datasets.fashion_mnist\r\n",
        "(train_images, train_labels), (test_images, test_labels) = fashion_mnist.load_data()"
      ],
      "execution_count": null,
      "outputs": [
        {
          "output_type": "stream",
          "text": [
            "Downloading data from https://storage.googleapis.com/tensorflow/tf-keras-datasets/train-labels-idx1-ubyte.gz\n",
            "32768/29515 [=================================] - 0s 0us/step\n",
            "Downloading data from https://storage.googleapis.com/tensorflow/tf-keras-datasets/train-images-idx3-ubyte.gz\n",
            "26427392/26421880 [==============================] - 0s 0us/step\n",
            "Downloading data from https://storage.googleapis.com/tensorflow/tf-keras-datasets/t10k-labels-idx1-ubyte.gz\n",
            "8192/5148 [===============================================] - 0s 0us/step\n",
            "Downloading data from https://storage.googleapis.com/tensorflow/tf-keras-datasets/t10k-images-idx3-ubyte.gz\n",
            "4423680/4422102 [==============================] - 0s 0us/step\n"
          ],
          "name": "stdout"
        }
      ]
    },
    {
      "cell_type": "code",
      "metadata": {
        "id": "AunEJaYrWFtQ"
      },
      "source": [
        "class_names = ['T-shirt/top', 'Trouser', 'Pullover', 'Dress', 'Coat', \r\n",
        "               'Samdal', 'Shirt',  'Sneaker', 'Bag', 'Ankle boot']"
      ],
      "execution_count": null,
      "outputs": []
    },
    {
      "cell_type": "code",
      "metadata": {
        "id": "VRWL1QWfXfXF",
        "colab": {
          "base_uri": "https://localhost:8080/"
        },
        "outputId": "8a4970f8-5168-4971-fac4-4a85a408b05f"
      },
      "source": [
        "print('tamaño del conjunto de entrenamiento', train_images.shape)\r\n",
        "print('numero de muestras de entrenamiento', len(train_labels))\r\n",
        "\r\n",
        "test_images.shape\r\n",
        "len(test_labels)\r\n",
        "\r\n",
        "print('tamaños del conjunto de prueba', test_images.shape)\r\n",
        "print('Numero de muestras de prueba', len(test_labels))"
      ],
      "execution_count": null,
      "outputs": [
        {
          "output_type": "stream",
          "text": [
            "tamaño del conjunto de entrenamiento (60000, 28, 28)\n",
            "numero de muestras de entrenamiento 60000\n",
            "tamaños del conjunto de prueba (10000, 28, 28)\n",
            "Numero de muestras de prueba 10000\n"
          ],
          "name": "stdout"
        }
      ]
    },
    {
      "cell_type": "code",
      "metadata": {
        "colab": {
          "base_uri": "https://localhost:8080/",
          "height": 265
        },
        "id": "hdyLvTyud5oD",
        "outputId": "de54cf40-2823-40c3-a7ef-40b76a7dd828"
      },
      "source": [
        "plt.figure()\r\n",
        "plt.imshow(train_images[0])\r\n",
        "plt.colorbar()\r\n",
        "plt.grid(False)\r\n",
        "plt.show()"
      ],
      "execution_count": null,
      "outputs": [
        {
          "output_type": "display_data",
          "data": {
            "image/png": "[encoded data removed]",
            "text/plain": [
              "<Figure size 432x288 with 2 Axes>"
            ]
          },
          "metadata": {
            "tags": [],
            "needs_background": "light"
          }
        }
      ]
    },
    {
      "cell_type": "code",
      "metadata": {
        "id": "8g0iZ2cUfu7e"
      },
      "source": [
        "train_images = train_images/255.0\r\n",
        "test_images = test_images/255.0"
      ],
      "execution_count": null,
      "outputs": []
    },
    {
      "cell_type": "code",
      "metadata": {
        "colab": {
          "base_uri": "https://localhost:8080/",
          "height": 589
        },
        "id": "904Boa5eftHZ",
        "outputId": "3624dda7-156e-4e93-e404-eda97c7f1339"
      },
      "source": [
        "plt.figure(figsize=(10, 10))\r\n",
        "for i in range(25):\r\n",
        "  plt.subplot(5,5,i+1)\r\n",
        "  plt.xticks([])\r\n",
        "  plt.yticks([])\r\n",
        "  plt.grid(False)\r\n",
        "  plt.imshow(train_images[i], cmap=plt.cm.binary)\r\n",
        "  plt.xlabel(class_names[train_labels[i]])\r\n",
        "plt.show()\r\n"
      ],
      "execution_count": null,
      "outputs": [
        {
          "output_type": "display_data",
          "data": {
            "image/png": "[encoded data removed]",
            "text/plain": [
              "<Figure size 720x720 with 25 Axes>"
            ]
          },
          "metadata": {
            "tags": []
          }
        }
      ]
    },
    {
      "cell_type": "code",
      "metadata": {
        "id": "zF3jb02wh3VJ"
      },
      "source": [
        "model = keras.Sequential([\r\n",
        "                          keras.layers.Flatten(input_shape=(28, 28)),\r\n",
        "                          keras.layers.Dense(128, activation=tf.nn.relu),\r\n",
        "                          keras.layers.Dense(10, activation=tf.nn.softmax)                                             \r\n",
        "])"
      ],
      "execution_count": null,
      "outputs": []
    },
    {
      "cell_type": "code",
      "metadata": {
        "id": "xxwh1h-6jtEb"
      },
      "source": [
        "model.compile(optimizer='adam', \r\n",
        "              loss='sparse_categorical_crossentropy',\r\n",
        "              metrics=['accuracy'])"
      ],
      "execution_count": null,
      "outputs": []
    },
    {
      "cell_type": "code",
      "metadata": {
        "colab": {
          "base_uri": "https://localhost:8080/"
        },
        "id": "rHaDNTSxjaSY",
        "outputId": "4590189e-a0d6-4c16-d371-b72aad93eaf3"
      },
      "source": [
        "model.fit(train_images, train_labels, epochs=5)"
      ],
      "execution_count": null,
      "outputs": [
        {
          "output_type": "stream",
          "text": [
            "Train on 60000 samples\n",
            "Epoch 1/5\n",
            "60000/60000 [==============================] - 4s 61us/sample - loss: 0.4948 - acc: 0.8255\n",
            "Epoch 2/5\n",
            "60000/60000 [==============================] - 3s 55us/sample - loss: 0.3760 - acc: 0.8645\n",
            "Epoch 3/5\n",
            "60000/60000 [==============================] - 3s 55us/sample - loss: 0.3383 - acc: 0.8758\n",
            "Epoch 4/5\n",
            "60000/60000 [==============================] - 3s 55us/sample - loss: 0.3125 - acc: 0.8858\n",
            "Epoch 5/5\n",
            "60000/60000 [==============================] - 3s 54us/sample - loss: 0.2967 - acc: 0.8899\n"
          ],
          "name": "stdout"
        },
        {
          "output_type": "execute_result",
          "data": {
            "text/plain": [
              "<tensorflow.python.keras.callbacks.History at 0x7f6c07eb5fd0>"
            ]
          },
          "metadata": {
            "tags": []
          },
          "execution_count": 10
        }
      ]
    },
    {
      "cell_type": "code",
      "metadata": {
        "colab": {
          "base_uri": "https://localhost:8080/"
        },
        "id": "a2kVmwUvlnGd",
        "outputId": "7a310f74-4c28-43c9-990d-1874e15a331c"
      },
      "source": [
        "test_loss, test_acc, = model.evaluate(test_images, test_labels)\r\n",
        "print('test accuracy;', test_acc)"
      ],
      "execution_count": null,
      "outputs": [
        {
          "output_type": "stream",
          "text": [
            "test accuracy; 0.8743\n"
          ],
          "name": "stdout"
        }
      ]
    },
    {
      "cell_type": "code",
      "metadata": {
        "id": "SIzlRI7OlNBY"
      },
      "source": [
        "predictions = model.predict(test_images)"
      ],
      "execution_count": null,
      "outputs": []
    },
    {
      "cell_type": "code",
      "metadata": {
        "colab": {
          "base_uri": "https://localhost:8080/"
        },
        "id": "WHTkCe2ejW6R",
        "outputId": "a7808bfc-8b7e-472c-f8c0-2e4955dbf740"
      },
      "source": [
        "predictions[0]"
      ],
      "execution_count": null,
      "outputs": [
        {
          "output_type": "execute_result",
          "data": {
            "text/plain": [
              "array([3.2418488e-06, 1.0964058e-06, 5.5199399e-07, 2.5131972e-06,\n",
              "       4.6092379e-07, 2.4260642e-02, 2.3883090e-06, 1.2519307e-01,\n",
              "       3.9088747e-05, 8.5049689e-01], dtype=float32)"
            ]
          },
          "metadata": {
            "tags": []
          },
          "execution_count": 13
        }
      ]
    },
    {
      "cell_type": "code",
      "metadata": {
        "colab": {
          "base_uri": "https://localhost:8080/"
        },
        "id": "qWJ0W4o8mbld",
        "outputId": "dcee5509-cd8a-40ae-80d2-b27a4556634b"
      },
      "source": [
        "np.argmax(predictions[0])"
      ],
      "execution_count": null,
      "outputs": [
        {
          "output_type": "execute_result",
          "data": {
            "text/plain": [
              "9"
            ]
          },
          "metadata": {
            "tags": []
          },
          "execution_count": 17
        }
      ]
    },
    {
      "cell_type": "code",
      "metadata": {
        "id": "d2sXjC-em5Mt"
      },
      "source": [
        "def plot_image(i, predictions_array, true_label, img):\r\n",
        "  predictions_array, true_label, img = predictions_array[i], true_label[i], img[i]\r\n",
        "  plt.grid(False)\r\n",
        "  plt.xticks([])\r\n",
        "  plt.yticks([])\r\n",
        "\r\n",
        "  plt.imshow(img, cmap = plt.cm.binary)\r\n",
        "\r\n",
        "  predicted_label = np.argmax(predictions_array)\r\n",
        "  if predicted_label == true_label:\r\n",
        "    color = 'blue'\r\n",
        "  else:\r\n",
        "    color = 'red'\r\n",
        "  plt.xlabel(\"{} {:2.0f}% ({})\".format(class_names[predicted_label],\r\n",
        "                                       100*np.max(predictions_array),\r\n",
        "                                       class_names[true_label]),\r\n",
        "             color = color)\r\n",
        "def plot_value_array (i, predictions_array, true_label):\r\n",
        "  predictions_array, true_label= predictions_array[i], true_label[i]\r\n",
        "  plt.grid(False)\r\n",
        "  plt.xticks([])\r\n",
        "  plt.yticks([])\r\n",
        "  thisplot = plt.bar(range(10), predictions_array, color='#777777')\r\n",
        "  plt.ylim([0, 1])\r\n",
        "  predicted_label = np.argmax(predictions_array)\r\n",
        "\r\n",
        "  thisplot[predicted_label].set_color('red')\r\n",
        "  thisplot[true_label].set_color('blue')"
      ],
      "execution_count": null,
      "outputs": []
    },
    {
      "cell_type": "code",
      "metadata": {
        "id": "gb3V_zpOm6Ak",
        "colab": {
          "base_uri": "https://localhost:8080/",
          "height": 220
        },
        "outputId": "2c0ea8c0-0347-4988-8c08-c8d05a78f3e6"
      },
      "source": [
        "i=10\r\n",
        "plt.figure(figsize=(6,3))\r\n",
        "plt.subplot(1,2,1)\r\n",
        "plot_image(i, predictions, test_labels, test_images)\r\n",
        "plt.subplot(1,2,2)\r\n",
        "plot_value_array(i, predictions, test_labels)\r\n",
        "plt.show"
      ],
      "execution_count": null,
      "outputs": [
        {
          "output_type": "execute_result",
          "data": {
            "text/plain": [
              "<function matplotlib.pyplot.show>"
            ]
          },
          "metadata": {
            "tags": []
          },
          "execution_count": 52
        },
        {
          "output_type": "display_data",
          "data": {
            "image/png": "[encoded data removed]",
            "text/plain": [
              "<Figure size 432x216 with 2 Axes>"
            ]
          },
          "metadata": {
            "tags": []
          }
        }
      ]
    },
    {
      "cell_type": "code",
      "metadata": {
        "colab": {
          "base_uri": "https://localhost:8080/",
          "height": 220
        },
        "id": "CKrp0RxCpCRn",
        "outputId": "3fa5bc24-0ba2-445e-a13a-ce41ab0b18cb"
      },
      "source": [
        "i=12\r\n",
        "plt.figure(figsize=(6,3))\r\n",
        "plt.subplot(1,2,1)\r\n",
        "plot_image(i, predictions, test_labels, test_images)\r\n",
        "plt.subplot(1,2,2)\r\n",
        "plot_value_array(i, predictions, test_labels)\r\n",
        "plt.show"
      ],
      "execution_count": null,
      "outputs": [
        {
          "output_type": "execute_result",
          "data": {
            "text/plain": [
              "<function matplotlib.pyplot.show>"
            ]
          },
          "metadata": {
            "tags": []
          },
          "execution_count": 54
        },
        {
          "output_type": "display_data",
          "data": {
            "image/png": "[encoded data removed]",
            "text/plain": [
              "<Figure size 432x216 with 2 Axes>"
            ]
          },
          "metadata": {
            "tags": []
          }
        }
      ]
    }
  ]
}
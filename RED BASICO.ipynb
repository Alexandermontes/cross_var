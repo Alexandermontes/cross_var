{
  "nbformat": 4,
  "nbformat_minor": 0,
  "metadata": {
    "colab": {
      "name": "Untitled2.ipynb",
      "provenance": [],
      "authorship_tag": "ABX9TyPy76oLNKckYeUo+R8RZN+3",
      "include_colab_link": true
    },
    "kernelspec": {
      "name": "python3",
      "display_name": "Python 3"
    },
    "language_info": {
      "name": "python"
    }
  },
  "cells": [
    {
      "cell_type": "markdown",
      "metadata": {
        "id": "view-in-github",
        "colab_type": "text"
      },
      "source": [
        "<a href=\"https://colab.research.google.com/github/Alexandermontes/cross_var/blob/main/RED%20BASICO.ipynb\" target=\"_parent\"><img src=\"https://colab.research.google.com/assets/colab-badge.svg\" alt=\"Open In Colab\"/></a>"
      ]
    },
    {
      "cell_type": "code",
      "metadata": {
        "id": "F_drZ9wX3xwo"
      },
      "source": [
        "import numpy as np\n",
        "import matplotlib.pyplot as plt \n",
        "import tensorflow as tf\n",
        "from tensorflow import keras\n",
        "from keras.models import Sequential\n",
        "from keras.layers import Dense"
      ],
      "execution_count": 87,
      "outputs": []
    },
    {
      "cell_type": "code",
      "metadata": {
        "id": "TICAvsyp4LAA"
      },
      "source": [
        "caracteristicas=[[150,50],[155,55],[170,90],[170,72],[140,60],[180,79],[160,61],[160,40],[145,46],[163,64],\n",
        "                 [150,51],[156,54],[173,80],[170,90],[140,62],[180,79],[160,85],[159,35],[145,43],[168,67],\n",
        "                 [152,52],[165,65],[173,73],[170,50],[140,40],[180,81],[160,60],[159,59],[145,45],[168,68]]\n",
        "\n",
        "valores = [[1],[1],[2],[1],[2],[1],[1],[0],[1],[1],[1],[1],[2],[2],[2],[1],[2],[0],[1],[1],[1],[1],[1],[0],[1],[1],[1],[1],[1],[1]]"
      ],
      "execution_count": 88,
      "outputs": []
    },
    {
      "cell_type": "code",
      "metadata": {
        "id": "VRLZxY547o06"
      },
      "source": [
        "x = np.array(caracteristicas)\n",
        "y = np.array(valores)"
      ],
      "execution_count": 90,
      "outputs": []
    },
    {
      "cell_type": "code",
      "metadata": {
        "colab": {
          "base_uri": "https://localhost:8080/",
          "height": 265
        },
        "id": "L1LN_hoP7654",
        "outputId": "f3b3e881-7bfc-4875-9e03-e3e5f2fe24ec"
      },
      "source": [
        "scatter= plt.scatter(x[:,1], y)\n",
        "plt.show()"
      ],
      "execution_count": 91,
      "outputs": [
        {
          "output_type": "display_data",
          "data": {
            "image/png": "[encoded data removed]",
            "text/plain": [
              "<Figure size 432x288 with 1 Axes>"
            ]
          },
          "metadata": {
            "tags": [],
            "needs_background": "light"
          }
        }
      ]
    },
    {
      "cell_type": "code",
      "metadata": {
        "id": "6SOyGXJINHsl"
      },
      "source": [
        "model = Sequential()\n",
        "model.add(Dense(16, input_dim=2, activation='relu')),\n",
        "model.add(Dense(16, input_dim=16, activation='relu')),\n",
        "model.add(Dense(1,activation='sigmoid'))\n",
        "\n",
        "model.compile(loss='binary_crossentropy',\n",
        "              optimizer='adam',\n",
        "              metrics=['accuracy'])\n"
      ],
      "execution_count": 99,
      "outputs": []
    },
    {
      "cell_type": "code",
      "metadata": {
        "id": "pH0ushdKO1SM"
      },
      "source": [
        "model.fit(x, y ,epochs=300)"
      ],
      "execution_count": null,
      "outputs": []
    },
    {
      "cell_type": "code",
      "metadata": {
        "colab": {
          "base_uri": "https://localhost:8080/"
        },
        "id": "ULzWSe1rQCha",
        "outputId": "1472e750-5bcd-4057-c199-b126dc392160"
      },
      "source": [
        "score = model.evaluate(x, y)\n",
        "print()"
      ],
      "execution_count": 101,
      "outputs": [
        {
          "output_type": "stream",
          "text": [
            "1/1 [==============================] - 0s 118ms/step - loss: -77.3358 - accuracy: 0.7000\n",
            "\n"
          ],
          "name": "stdout"
        }
      ]
    }
  ]
}